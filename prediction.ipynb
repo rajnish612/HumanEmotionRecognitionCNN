{
 "cells": [
  {
   "cell_type": "code",
   "execution_count": 1,
   "id": "ee3b0376",
   "metadata": {},
   "outputs": [
    {
     "name": "stderr",
     "output_type": "stream",
     "text": [
      "WARNING:absl:Compiled the loaded model, but the compiled metrics have yet to be built. `model.compile_metrics` will be empty until you train or evaluate the model.\n"
     ]
    },
    {
     "name": "stdout",
     "output_type": "stream",
     "text": [
      "Loading model...\n",
      "✅ Model loaded!\n",
      "✅ Model loaded!\n"
     ]
    }
   ],
   "source": [
    "import cv2\n",
    "import numpy as np\n",
    "from tensorflow.keras.models import load_model\n",
    "\n",
    "# Load the trained model\n",
    "print(\"Loading model...\")\n",
    "model = load_model(\"emotion_model.h5\")\n",
    "print(\"✅ Model loaded!\")\n",
    "\n",
    "# Define emotion labels\n",
    "emotion_labels = [\"Angry\", \"Disgust\", \"Fear\", \"Happy\", \"Neutral\", \"Sad\", \"Surprise\"]\n",
    "\n",
    "# Load face detector\n",
    "face_cascade = cv2.CascadeClassifier(cv2.data.haarcascades + 'haarcascade_frontalface_default.xml')"
   ]
  },
  {
   "cell_type": "code",
   "execution_count": 2,
   "id": "f4541862",
   "metadata": {},
   "outputs": [],
   "source": [
    "video = cv2.VideoCapture(0)"
   ]
  },
  {
   "cell_type": "code",
   "execution_count": 4,
   "id": "c8f5e03c",
   "metadata": {},
   "outputs": [
    {
     "name": "stdout",
     "output_type": "stream",
     "text": [
      "✅ Webcam closed!\n"
     ]
    }
   ],
   "source": [
    "while True:\n",
    "    ret, frame = video.read()\n",
    "    if not ret:\n",
    "        break\n",
    "    \n",
    "    # Convert to grayscale for face detection\n",
    "    gray = cv2.cvtColor(frame, cv2.COLOR_BGR2GRAY)\n",
    "    \n",
    "    # Detect faces\n",
    "    faces = face_cascade.detectMultiScale(gray, scaleFactor=1.1, minNeighbors=5, minSize=(30, 30))\n",
    "    \n",
    "    # Process each detected face\n",
    "    for (x, y, w, h) in faces:\n",
    "        # Extract face region\n",
    "        roi_gray = gray[y:y+h, x:x+w]\n",
    "        roi_gray = cv2.resize(roi_gray, (48, 48))\n",
    "        \n",
    "        # Prepare for prediction\n",
    "        roi = roi_gray.astype('float') / 255.0\n",
    "        roi = np.expand_dims(roi, axis=0)\n",
    "        roi = np.expand_dims(roi, axis=-1)\n",
    "        \n",
    "        # Predict emotion\n",
    "        prediction = model.predict(roi, verbose=0)\n",
    "        label_index = np.argmax(prediction)\n",
    "        predicted_emotion = emotion_labels[label_index]\n",
    "        confidence = np.max(prediction) * 100\n",
    "        \n",
    "        # Draw rectangle around face\n",
    "        cv2.rectangle(frame, (x, y), (x+w, y+h), (0, 255, 0), 2)\n",
    "        \n",
    "        # Display emotion and confidence\n",
    "        cv2.putText(frame, f\"{predicted_emotion} ({confidence:.1f}%)\", \n",
    "                    (x, y-10), cv2.FONT_HERSHEY_SIMPLEX, 0.9, (0, 255, 0), 2)\n",
    "    \n",
    "    cv2.imshow(\"Emotion Detection - Press 'q' to quit\", frame)\n",
    "    if cv2.waitKey(1) & 0xFF == ord(\"q\"):\n",
    "        break\n",
    "\n",
    "video.release()\n",
    "cv2.destroyAllWindows()\n",
    "print(\"✅ Webcam closed!\")"
   ]
  }
 ],
 "metadata": {
  "kernelspec": {
   "display_name": "base",
   "language": "python",
   "name": "python3"
  },
  "language_info": {
   "codemirror_mode": {
    "name": "ipython",
    "version": 3
   },
   "file_extension": ".py",
   "mimetype": "text/x-python",
   "name": "python",
   "nbconvert_exporter": "python",
   "pygments_lexer": "ipython3",
   "version": "3.12.3"
  }
 },
 "nbformat": 4,
 "nbformat_minor": 5
}
